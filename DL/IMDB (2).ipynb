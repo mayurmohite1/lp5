{
 "cells": [
  {
   "cell_type": "code",
   "execution_count": 1,
   "id": "797fb939-eca1-403b-a61c-a311309849e9",
   "metadata": {},
   "outputs": [
    {
     "name": "stdout",
     "output_type": "stream",
     "text": [
      "WARNING:tensorflow:From C:\\Users\\athar\\anaconda3\\Lib\\site-packages\\keras\\src\\losses.py:2976: The name tf.losses.sparse_softmax_cross_entropy is deprecated. Please use tf.compat.v1.losses.sparse_softmax_cross_entropy instead.\n",
      "\n"
     ]
    }
   ],
   "source": [
    "import pandas as pd\n",
    "import tensorflow as tf\n",
    "from tensorflow.keras.preprocessing.text import Tokenizer\n",
    "from tensorflow.keras.preprocessing.sequence import pad_sequences\n",
    "from sklearn.model_selection import train_test_split\n",
    "from sklearn.metrics import classification_report\n",
    "import matplotlib.pyplot as plt"
   ]
  },
  {
   "cell_type": "code",
   "execution_count": 2,
   "id": "b9db8974-ace7-4f53-a670-215598c6c605",
   "metadata": {},
   "outputs": [],
   "source": [
    "df = pd.read_csv('IMDB Dataset.csv')"
   ]
  },
  {
   "cell_type": "code",
   "execution_count": 3,
   "id": "cc9a2e17-681f-4e75-9f09-797fe78a3044",
   "metadata": {},
   "outputs": [],
   "source": [
    "df['sentiment'] = df['sentiment'].map({'positive': 1, 'negative': 0})"
   ]
  },
  {
   "cell_type": "code",
   "execution_count": 4,
   "id": "bd3da417-f2e3-4112-9393-0b5f50c8c40b",
   "metadata": {},
   "outputs": [],
   "source": [
    "X_train, X_test, y_train, y_test = train_test_split(df['review'], df['sentiment'], test_size=0.2, random_state=42)"
   ]
  },
  {
   "cell_type": "code",
   "execution_count": 5,
   "id": "2fca052a-9cf9-4c7f-b3a0-084219abcc30",
   "metadata": {},
   "outputs": [],
   "source": [
    "tokenizer = Tokenizer(num_words=10000, oov_token='<OOV>')\n",
    "tokenizer.fit_on_texts(X_train)\n",
    "X_train = pad_sequences(tokenizer.texts_to_sequences(X_train), maxlen=200)\n",
    "X_test = pad_sequences(tokenizer.texts_to_sequences(X_test), maxlen=200)"
   ]
  },
  {
   "cell_type": "code",
   "execution_count": 19,
   "id": "a269b34c-110a-45f8-95fb-177889732639",
   "metadata": {},
   "outputs": [],
   "source": [
    "def build_model(model_type='DNN'):\n",
    "    model = tf.keras.Sequential()\n",
    "    model.add(tf.keras.layers.Embedding(10000, 128, input_length=200))\n",
    "    \n",
    "    if model_type == 'DNN':\n",
    "        model.add(tf.keras.layers.Flatten())\n",
    "        \n",
    "    else:\n",
    "        model.add(tf.keras.layers.Conv1D(128, 5, activation='relu'))\n",
    "        model.add(tf.keras.layers.GlobalMaxPooling1D())\n",
    "        \n",
    "    model.add(tf.keras.layers.Dense(64, activation='relu'))\n",
    "    model.add(tf.keras.layers.Dense(1, activation='sigmoid'))\n",
    "    model.compile(optimizer='adam', loss='binary_crossentropy', metrics=['accuracy'])\n",
    "    return model"
   ]
  },
  {
   "cell_type": "code",
   "execution_count": 7,
   "id": "6edd81e8-5834-468c-9bef-107bc4920c94",
   "metadata": {},
   "outputs": [
    {
     "name": "stdout",
     "output_type": "stream",
     "text": [
      "WARNING:tensorflow:From C:\\Users\\athar\\anaconda3\\Lib\\site-packages\\keras\\src\\backend.py:873: The name tf.get_default_graph is deprecated. Please use tf.compat.v1.get_default_graph instead.\n",
      "\n",
      "WARNING:tensorflow:From C:\\Users\\athar\\anaconda3\\Lib\\site-packages\\keras\\src\\optimizers\\__init__.py:309: The name tf.train.Optimizer is deprecated. Please use tf.compat.v1.train.Optimizer instead.\n",
      "\n",
      "Epoch 1/5\n",
      "WARNING:tensorflow:From C:\\Users\\athar\\anaconda3\\Lib\\site-packages\\keras\\src\\utils\\tf_utils.py:492: The name tf.ragged.RaggedTensorValue is deprecated. Please use tf.compat.v1.ragged.RaggedTensorValue instead.\n",
      "\n",
      "WARNING:tensorflow:From C:\\Users\\athar\\anaconda3\\Lib\\site-packages\\keras\\src\\engine\\base_layer_utils.py:384: The name tf.executing_eagerly_outside_functions is deprecated. Please use tf.compat.v1.executing_eagerly_outside_functions instead.\n",
      "\n",
      "625/625 [==============================] - 19s 29ms/step - loss: 0.3669 - accuracy: 0.8245 - val_loss: 0.2785 - val_accuracy: 0.8810\n",
      "Epoch 2/5\n",
      "625/625 [==============================] - 18s 29ms/step - loss: 0.0804 - accuracy: 0.9731 - val_loss: 0.3975 - val_accuracy: 0.8592\n",
      "Epoch 3/5\n",
      "625/625 [==============================] - 18s 28ms/step - loss: 0.0126 - accuracy: 0.9963 - val_loss: 0.5271 - val_accuracy: 0.8696\n",
      "Epoch 4/5\n",
      "625/625 [==============================] - 18s 28ms/step - loss: 0.0012 - accuracy: 0.9998 - val_loss: 0.5820 - val_accuracy: 0.8734\n",
      "Epoch 5/5\n",
      "625/625 [==============================] - 18s 29ms/step - loss: 1.6714e-04 - accuracy: 1.0000 - val_loss: 0.6046 - val_accuracy: 0.8732\n"
     ]
    }
   ],
   "source": [
    "dnn_model = build_model('DNN')\n",
    "dnn_history = dnn_model.fit(X_train, y_train, epochs=5, batch_size=64, validation_data=(X_test, y_test))"
   ]
  },
  {
   "cell_type": "code",
   "execution_count": 8,
   "id": "bae7851d-7bf6-4983-b9d4-8fc269d9d0d9",
   "metadata": {},
   "outputs": [
    {
     "name": "stdout",
     "output_type": "stream",
     "text": [
      "Epoch 1/5\n",
      "625/625 [==============================] - 19s 29ms/step - loss: 0.3632 - accuracy: 0.8292 - val_loss: 0.2426 - val_accuracy: 0.8989\n",
      "Epoch 2/5\n",
      "625/625 [==============================] - 18s 29ms/step - loss: 0.1576 - accuracy: 0.9414 - val_loss: 0.2411 - val_accuracy: 0.9015\n",
      "Epoch 3/5\n",
      "625/625 [==============================] - 18s 29ms/step - loss: 0.0462 - accuracy: 0.9874 - val_loss: 0.2938 - val_accuracy: 0.8991\n",
      "Epoch 4/5\n",
      "625/625 [==============================] - 18s 29ms/step - loss: 0.0082 - accuracy: 0.9990 - val_loss: 0.3677 - val_accuracy: 0.8999\n",
      "Epoch 5/5\n",
      "625/625 [==============================] - 18s 29ms/step - loss: 0.0012 - accuracy: 1.0000 - val_loss: 0.3934 - val_accuracy: 0.9019\n"
     ]
    }
   ],
   "source": [
    "cnn_model = build_model('CNN')\n",
    "cnn_history = cnn_model.fit(X_train, y_train, epochs=5, batch_size=64, validation_data=(X_test, y_test))"
   ]
  },
  {
   "cell_type": "code",
   "execution_count": 20,
   "id": "f5a5c06a-06d5-4215-9471-5ea50deb825e",
   "metadata": {},
   "outputs": [
    {
     "name": "stdout",
     "output_type": "stream",
     "text": [
      "313/313 [==============================] - 1s 2ms/step - loss: 0.6046 - accuracy: 0.8732\n",
      "DNN Accuracy: [0.6045719385147095, 0.873199999332428]\n",
      "313/313 [==============================] - 1s 3ms/step - loss: 0.3934 - accuracy: 0.9019\n",
      "CNN Accuracy: [0.3933963179588318, 0.9018999934196472]\n"
     ]
    }
   ],
   "source": [
    "print(\"DNN Accuracy:\", dnn_model.evaluate(X_test, y_test))\n",
    "print(\"CNN Accuracy:\", cnn_model.evaluate(X_test, y_test))"
   ]
  },
  {
   "cell_type": "code",
   "execution_count": 10,
   "id": "0c0180c8-6d5e-403c-89a5-42a218bae996",
   "metadata": {},
   "outputs": [
    {
     "data": {
      "image/png": "[encoded data removed]",
      "text/plain": [
       "<Figure size 640x480 with 1 Axes>"
      ]
     },
     "metadata": {},
     "output_type": "display_data"
    }
   ],
   "source": [
    "plt.plot(dnn_history.history['accuracy'], label='DNN')\n",
    "plt.plot(cnn_history.history['accuracy'], label='CNN')\n",
    "plt.xlabel('Epochs')\n",
    "plt.ylabel('Accuracy')\n",
    "plt.legend()\n",
    "plt.show()"
   ]
  },
  {
   "cell_type": "code",
   "execution_count": 27,
   "id": "b9cb445e-f159-4e6d-9c22-9e7bb9edd88b",
   "metadata": {},
   "outputs": [
    {
     "name": "stdout",
     "output_type": "stream",
     "text": [
      "1/1 [==============================] - 0s 24ms/step\n",
      "DNN Prediction: Negative\n",
      "1/1 [==============================] - 0s 20ms/step\n",
      "CNN Prediction: Negative\n"
     ]
    }
   ],
   "source": [
    "def predict_sentiment(model, text):\n",
    "    seq = pad_sequences(tokenizer.texts_to_sequences([text]), maxlen=200)\n",
    "    prediction = model.predict(seq)\n",
    "    return \"Positive\" if prediction > 0.5 else \"Negative\"\n",
    "\n",
    "test_text = \"The movie was absolutely meh, I hated it!\"\n",
    "print(\"DNN Prediction:\", predict_sentiment(dnn_model, test_text))\n",
    "print(\"CNN Prediction:\", predict_sentiment(cnn_model, test_text))"
   ]
  },
  {
   "cell_type": "code",
   "execution_count": 18,
   "id": "34d99f31-3fb7-49cc-9c68-3d1c64145672",
   "metadata": {},
   "outputs": [
    {
     "name": "stdout",
     "output_type": "stream",
     "text": [
      "313/313 [==============================] - 1s 2ms/step\n",
      "313/313 [==============================] - 1s 3ms/step\n",
      "DNN Classification Report:\n",
      "               precision    recall  f1-score   support\n",
      "\n",
      "           0       0.87      0.87      0.87      4961\n",
      "           1       0.87      0.88      0.87      5039\n",
      "\n",
      "    accuracy                           0.87     10000\n",
      "   macro avg       0.87      0.87      0.87     10000\n",
      "weighted avg       0.87      0.87      0.87     10000\n",
      "\n",
      "CNN Classification Report:\n",
      "               precision    recall  f1-score   support\n",
      "\n",
      "           0       0.91      0.89      0.90      4961\n",
      "           1       0.90      0.91      0.90      5039\n",
      "\n",
      "    accuracy                           0.90     10000\n",
      "   macro avg       0.90      0.90      0.90     10000\n",
      "weighted avg       0.90      0.90      0.90     10000\n",
      "\n"
     ]
    }
   ],
   "source": [
    "dnn_predictions = (dnn_model.predict(X_test) > 0.5).astype(\"int32\")\n",
    "cnn_predictions = (cnn_model.predict(X_test) > 0.5).astype(\"int32\")\n",
    "\n",
    "print(\"DNN Classification Report:\\n\", classification_report(y_test, dnn_predictions))\n",
    "print(\"CNN Classification Report:\\n\", classification_report(y_test, cnn_predictions))\n"
   ]
  },
  {
   "cell_type": "code",
   "execution_count": null,
   "id": "9818529e-10b1-4792-9575-524120bbd499",
   "metadata": {},
   "outputs": [],
   "source": []
  }
 ],
 "metadata": {
  "kernelspec": {
   "display_name": "Python 3 (ipykernel)",
   "language": "python",
   "name": "python3"
  },
  "language_info": {
   "codemirror_mode": {
    "name": "ipython",
    "version": 3
   },
   "file_extension": ".py",
   "mimetype": "text/x-python",
   "name": "python",
   "nbconvert_exporter": "python",
   "pygments_lexer": "ipython3",
   "version": "3.11.5"
  }
 },
 "nbformat": 4,
 "nbformat_minor": 5
}
